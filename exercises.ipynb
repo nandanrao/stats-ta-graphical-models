{
 "cells": [
  {
   "cell_type": "code",
   "execution_count": null,
   "metadata": {
    "autoscroll": false,
    "collapsed": false,
    "ein.hycell": false,
    "ein.tags": "worksheet-0",
    "slideshow": {
     "slide_type": "-"
    }
   },
   "outputs": [],
   "source": [
    "# !pip install --upgrade --quiet networkx"
   ]
  },
  {
   "cell_type": "code",
   "execution_count": null,
   "metadata": {
    "autoscroll": false,
    "collapsed": false,
    "ein.hycell": false,
    "ein.tags": "worksheet-0",
    "slideshow": {
     "slide_type": "-"
    }
   },
   "outputs": [],
   "source": [
    "import numpy as np\n",
    "import seaborn as sns\n",
    "import networkx as nx\n",
    "import matplotlib\n",
    "import matplotlib.pyplot as plt\n",
    "import statsmodels.api as sm\n",
    "from collections import deque\n",
    "from sklearn.preprocessing import scale\n",
    "from sklearn.metrics import precision_score, recall_score\n",
    "\n",
    "plt.rcParams['figure.figsize'] = [14, 7]"
   ]
  },
  {
   "cell_type": "code",
   "execution_count": null,
   "metadata": {
    "autoscroll": false,
    "collapsed": false,
    "ein.hycell": false,
    "ein.tags": "worksheet-0",
    "slideshow": {
     "slide_type": "-"
    }
   },
   "outputs": [],
   "source": [
    "def partial_correlation(d, i, j):\n",
    "    \"\"\" Estimate partial correlation between i and j \"\"\"\n",
    "    om = np.linalg.inv(np.cov(d.T))\n",
    "    return - om[i,j] / np.sqrt(om[i,i] * om[j,j])\n",
    "\n",
    "def partial_correlation_ols(d, i, j, z):\n",
    "    \"\"\" Estimate partial correlation between i and j conditional on z\"\"\"\n",
    "    fit = lambda i: sm.OLS(data[:, [i]], data[:, z]).fit()\n",
    "    return np.corrcoef(fit(i).resid, fit(j).resid)[0,1]\n",
    "\n",
    "def plot_dag(dag, layout = nx.kamada_kawai_layout):\n",
    "    \"\"\" Plots our DAGs with edge weights and labels \"\"\"\n",
    "    graph = nx.from_numpy_array(np.abs(dag.adjacency), create_using = nx.DiGraph)\n",
    "    pos = layout(graph)\n",
    "    weights = [d['weight'] for i,j,d in graph.edges.data()]\n",
    "    edges = nx.draw_networkx_edges(graph, pos, edge_cmap = plt.cm.Blues, edge_color = weights)\n",
    "    labels = nx.draw_networkx_labels(graph, pos)\n",
    "    nodes = nx.draw_networkx_nodes(graph, pos, with_labels = True)\n",
    "\n",
    "    pc = matplotlib.collections.PatchCollection(edges, cmap=plt.cm.Blues)\n",
    "    pc.set_array(weights)\n",
    "    plt.colorbar(pc)"
   ]
  },
  {
   "cell_type": "code",
   "execution_count": null,
   "metadata": {
    "autoscroll": false,
    "collapsed": false,
    "ein.hycell": false,
    "ein.tags": "worksheet-0",
    "slideshow": {
     "slide_type": "-"
    }
   },
   "outputs": [],
   "source": [
    "def emom(tau, N):\n",
    "    \"\"\" Exponential MoM prior @DavidRossel \"\"\"\n",
    "    dat = np.zeros(0)\n",
    "    while True:\n",
    "        draw = np.random.normal(0,1,N)\n",
    "        prob = np.exp( - tau / draw**2)\n",
    "        idx = prob > np.random.uniform(0, 1, N)\n",
    "        dat = np.concatenate([dat, draw[idx]])\n",
    "        if len(dat) >= N:\n",
    "            return dat[:N]\n",
    "\n",
    "class DAG():\n",
    "    def __init__(self, tot, avg_children = 3, noise = .5):\n",
    "        self.noise = noise\n",
    "        self.lam = avg_children\n",
    "        self.i = 0\n",
    "        self.sorted_adjacency = np.zeros((tot,tot))\n",
    "        self.new_children = deque([0])\n",
    "        self.tot = tot\n",
    "        self.nodes = False\n",
    "\n",
    "    def _shuffle(self, a):\n",
    "        n = a.shape[0]\n",
    "        self.idx = np.random.choice(range(n), size = n, replace=False)\n",
    "        return a[self.idx].T[self.idx].T\n",
    "    \n",
    "    def generate_nodes(self):\n",
    "        \"\"\" Implements a breadth-first generation of nodes \"\"\"\n",
    "        while self.new_children:\n",
    "            i = self.new_children.pop()\n",
    "            left = self.tot - self.i            \n",
    "            children = np.random.poisson(self.lam, 1)[0]            \n",
    "            children = children if left - children >= 0 else left\n",
    "            connections = [self.i + i for i in range(children)]\n",
    "            \n",
    "            # Generates random normal 0,1 edges\n",
    "            self.sorted_adjacency[i, connections] = emom(.9, children)\n",
    "            self.i += children\n",
    "            for c in connections:\n",
    "                self.new_children.appendleft(c)\n",
    "            \n",
    "\n",
    "        # Retry if we did not get a full graph\n",
    "        if self.i != self.tot:\n",
    "            self.__init__(self.tot)\n",
    "            self.generate_nodes()\n",
    "        \n",
    "        # Shuffle to get random indices\n",
    "        self.adjacency = self._shuffle(self.sorted_adjacency)\n",
    "        self.nodes = True\n",
    "\n",
    "    def _data(self, n):\n",
    "        self.data = np.zeros((n,self.tot))\n",
    "        for i,col in enumerate(self.sorted_adjacency.T):\n",
    "            dat = self.data.dot(col)\n",
    "            if np.all(dat == 0):\n",
    "                dat = np.random.normal(0,1,n)\n",
    "            self.data[:,i] = dat + np.random.normal(0,self.noise,n)\n",
    "        return self.data\n",
    "    \n",
    "    def generate_data(self, n):\n",
    "        \"\"\" Generates data according to the implied adjacency matrix\n",
    "\n",
    "        Every node is their parent, times the coefficient in the\n",
    "        adjacency matrix, plus additive gaussian noise (sd = self.noise).\n",
    "        \"\"\"\n",
    "        if not self.nodes:\n",
    "            self.generate_nodes()\n",
    "        dat = self._data(n)\n",
    "        dat = dat.T[self.idx].T\n",
    "        return scale(dat)"
   ]
  },
  {
   "cell_type": "code",
   "execution_count": null,
   "metadata": {
    "autoscroll": false,
    "collapsed": false,
    "ein.hycell": false,
    "ein.tags": "worksheet-0",
    "slideshow": {
     "slide_type": "-"
    }
   },
   "outputs": [],
   "source": [
    "dag = DAG(50, noise=.5)"
   ]
  },
  {
   "cell_type": "code",
   "execution_count": null,
   "metadata": {
    "autoscroll": false,
    "collapsed": false,
    "ein.hycell": false,
    "ein.tags": "worksheet-0",
    "slideshow": {
     "slide_type": "-"
    }
   },
   "outputs": [],
   "source": [
    "data = dag.generate_data(100)"
   ]
  },
  {
   "cell_type": "code",
   "execution_count": null,
   "metadata": {
    "autoscroll": false,
    "collapsed": false,
    "ein.hycell": false,
    "ein.tags": "worksheet-0",
    "slideshow": {
     "slide_type": "-"
    }
   },
   "outputs": [],
   "source": [
    "sns.heatmap(np.cov(data.T))"
   ]
  },
  {
   "cell_type": "code",
   "execution_count": null,
   "metadata": {
    "autoscroll": false,
    "collapsed": false,
    "ein.hycell": false,
    "ein.tags": "worksheet-0",
    "slideshow": {
     "slide_type": "-"
    }
   },
   "outputs": [],
   "source": [
    "sns.heatmap(np.linalg.inv((np.cov(data.T))))"
   ]
  },
  {
   "cell_type": "code",
   "execution_count": null,
   "metadata": {
    "autoscroll": false,
    "collapsed": false,
    "ein.hycell": false,
    "ein.tags": "worksheet-0",
    "slideshow": {
     "slide_type": "-"
    }
   },
   "outputs": [],
   "source": [
    "plot_dag(dag, layout = nx.spring_layout)"
   ]
  },
  {
   "cell_type": "code",
   "execution_count": null,
   "metadata": {
    "autoscroll": false,
    "collapsed": false,
    "ein.hycell": false,
    "ein.tags": "worksheet-0",
    "slideshow": {
     "slide_type": "-"
    }
   },
   "outputs": [],
   "source": [
    "# Pick a target variable (y) by looking at the above plot.\n",
    "# Let the rest of the data be potential predictors\n",
    "\n",
    "def pick(d, i):\n",
    "    return d[:, i], np.delete(d, i, 1)\n",
    "\n",
    "y, X = pick(scale(data), 9)"
   ]
  },
  {
   "cell_type": "code",
   "execution_count": null,
   "metadata": {
    "autoscroll": false,
    "collapsed": false,
    "ein.hycell": false,
    "ein.tags": "worksheet-0",
    "slideshow": {
     "slide_type": "-"
    }
   },
   "outputs": [],
   "source": [
    "# Take a look at the results from OLS. \n",
    "# 1. Are they reasonable? \n",
    "# 2. Are there any spurious correlations? \n",
    "\n",
    "print(sm.OLS(y, X).fit().summary())"
   ]
  },
  {
   "cell_type": "code",
   "execution_count": null,
   "metadata": {
    "autoscroll": false,
    "collapsed": false,
    "ein.hycell": false,
    "ein.tags": "worksheet-0",
    "slideshow": {
     "slide_type": "-"
    }
   },
   "outputs": [],
   "source": [
    "# Given your perfect knowledge of the true DGP,\n",
    "# pick a reduced form model and run OLS regression. \n",
    "# Does this look like a better model? "
   ]
  },
  {
   "cell_type": "code",
   "execution_count": null,
   "metadata": {
    "autoscroll": false,
    "collapsed": false,
    "ein.hycell": false,
    "ein.tags": "worksheet-0",
    "slideshow": {
     "slide_type": "-"
    }
   },
   "outputs": [],
   "source": [
    "# Clearly, we have a large graph, but we're only interested in \n",
    "# the part that is local to our target variable (y).\n",
    "# Try to find this minimal model via model selection,\n",
    "# over local linear models: "
   ]
  },
  {
   "cell_type": "code",
   "execution_count": null,
   "metadata": {
    "autoscroll": false,
    "collapsed": false,
    "ein.hycell": false,
    "ein.tags": "worksheet-0",
    "slideshow": {
     "slide_type": "-"
    }
   },
   "outputs": [],
   "source": [
    "# Take a look at partial correlations between a pair of data points.\n",
    "# See how this evolves as N (number of observations) grows."
   ]
  },
  {
   "cell_type": "code",
   "execution_count": null,
   "metadata": {
    "autoscroll": false,
    "collapsed": false,
    "ein.hycell": false,
    "ein.tags": "worksheet-0",
    "slideshow": {
     "slide_type": "-"
    }
   },
   "outputs": [],
   "source": [
    "# Now let's try to recover the ENTIRE precision matrix\n",
    "# via a series of local regressions"
   ]
  },
  {
   "cell_type": "code",
   "execution_count": 36,
   "metadata": {
    "autoscroll": false,
    "collapsed": false,
    "ein.hycell": false,
    "ein.tags": "worksheet-0",
    "slideshow": {
     "slide_type": "-"
    }
   },
   "outputs": [],
   "source": [
    "def fill_diag(arr):\n",
    "    \"\"\" Fills out an array with ones in the diagonal \"\"\"\n",
    "    P = arr.shape[0]\n",
    "    a = np.ones((P,P))\n",
    "    for i,c in enumerate(arr):\n",
    "        a[i] = np.insert(c, i, 0)\n",
    "    return a\n",
    "\n",
    "def symmetrize(a, union):\n",
    "    \"\"\" Makes adjacency matrix symmetric \"\"\"\n",
    "    c = (np.tril(a).T + np.triu(a))\n",
    "    m = (c + c.T)\n",
    "\n",
    "    # union or intersection\n",
    "    if union:\n",
    "        return m.astype(bool).astype(int)\n",
    "    else: \n",
    "        return (m >= 2).astype(int)\n",
    "\n",
    "def coefs_to_adjacency(a, union = True):\n",
    "    \"\"\" Converts a 2D numpy array of coefficients into adjacency matrix \n",
    "\n",
    "    union: To use the union of the non-zero coefficients of symmetric\n",
    "    regressions. If False, uses the intersection.\n",
    "    \"\"\"\n",
    "    return symmetrize(fill_diag(a), union)\n",
    "\n",
    "def score_adjacency(predicted_adj, dag):\n",
    "    \"\"\" Score predicted adjacency matrix\n",
    "    \n",
    "    Calculates precision and recall scores of an adjacency matrix\n",
    "    against the truth of the original DAG instance.    \n",
    "    \"\"\"\n",
    "\n",
    "    # Turn directed adjacency into undirected\n",
    "    adj = dag.adjacency + dag.adjacency.T\n",
    "    preds = predicted_adj.reshape(-1)\n",
    "    y = np.abs(adj).astype(bool).astype(int).reshape(-1)    \n",
    "    return precision_score(y, preds), recall_score(y, preds)\n",
    "\n",
    "def regress(data, alpha, fn):\n",
    "    \"\"\" Runs local regressions for each feature in dataset \"\"\"\n",
    "    d = [pick(data, i) for i in range(data.shape[1])]\n",
    "    coefs = [fn(y,X,alpha) for y,X in d]\n",
    "    return np.array(coefs)"
   ]
  },
  {
   "cell_type": "code",
   "execution_count": 37,
   "metadata": {
    "autoscroll": false,
    "collapsed": false,
    "ein.hycell": false,
    "ein.tags": "worksheet-0",
    "slideshow": {
     "slide_type": "-"
    }
   },
   "outputs": [],
   "source": [
    "# Create a function, with one tuning parameter, alpha,\n",
    "# that performs a local regression and returns a 1/0 array\n",
    "# where an index has 1 if the feature is to be \"included\", \n",
    "# and 0 otherwise.\n",
    "def fn_a(y, X, alpha):\n",
    "    pass\n",
    "\n",
    "def fn_b(y, X, alpha):\n",
    "    pass"
   ]
  },
  {
   "cell_type": "code",
   "execution_count": null,
   "metadata": {
    "autoscroll": false,
    "collapsed": false,
    "ein.hycell": false,
    "ein.tags": "worksheet-0",
    "slideshow": {
     "slide_type": "-"
    }
   },
   "outputs": [],
   "source": [
    "# Test your regression function and compare\n",
    "\n",
    "coefs = regress(data, .01, fn_a)\n",
    "predicted_adj = coefs_to_adjacency(coefs, True)\n",
    "\n",
    "score_adjacency(predicted_adj, dag)"
   ]
  },
  {
   "cell_type": "code",
   "execution_count": null,
   "metadata": {
    "autoscroll": false,
    "collapsed": false,
    "ein.hycell": false,
    "ein.tags": "worksheet-0",
    "slideshow": {
     "slide_type": "-"
    }
   },
   "outputs": [],
   "source": [
    "# Visualize your predicted adjacency matrix\n",
    "\n",
    "G = nx.from_numpy_array(predicted_adj)\n",
    "nx.draw(G, with_labels=True)"
   ]
  }
 ],
 "metadata": {
  "kernelspec": {
   "display_name": "Python 3",
   "name": "python3"
  },
  "name": "exercises.ipynb"
 },
 "nbformat": 4,
 "nbformat_minor": 2
}
